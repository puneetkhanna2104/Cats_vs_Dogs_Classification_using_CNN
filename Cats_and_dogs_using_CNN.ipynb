{
  "nbformat": 4,
  "nbformat_minor": 0,
  "metadata": {
    "colab": {
      "name": "Cats and dogs using CNN ",
      "version": "0.3.2",
      "provenance": [],
      "collapsed_sections": []
    },
    "kernelspec": {
      "name": "python3",
      "display_name": "Python 3"
    },
    "accelerator": "TPU"
  },
  "cells": [
    {
      "cell_type": "markdown",
      "metadata": {
        "id": "AEzzjhfFDGvF",
        "colab_type": "text"
      },
      "source": [
        "## Importing modules to use google drive "
      ]
    },
    {
      "cell_type": "code",
      "metadata": {
        "id": "plF1TRgnC7BC",
        "colab_type": "code",
        "outputId": "554e942f-0ac4-4b10-b7c9-9535323e470b",
        "colab": {
          "base_uri": "https://localhost:8080/",
          "height": 52
        }
      },
      "source": [
        "!pip install -U -q PyDrive\n",
        "from pydrive.auth import GoogleAuth\n",
        "from pydrive.drive import GoogleDrive\n",
        "from google.colab import auth\n",
        "from oauth2client.client import GoogleCredentials"
      ],
      "execution_count": 0,
      "outputs": [
        {
          "output_type": "stream",
          "text": [
            "\u001b[?25l\r\u001b[K     |▎                               | 10kB 16.8MB/s eta 0:00:01\r\u001b[K     |▋                               | 20kB 2.3MB/s eta 0:00:01\r\u001b[K     |█                               | 30kB 3.3MB/s eta 0:00:01\r\u001b[K     |█▎                              | 40kB 2.1MB/s eta 0:00:01\r\u001b[K     |█▋                              | 51kB 2.6MB/s eta 0:00:01\r\u001b[K     |██                              | 61kB 3.1MB/s eta 0:00:01\r\u001b[K     |██▎                             | 71kB 3.6MB/s eta 0:00:01\r\u001b[K     |██▋                             | 81kB 4.1MB/s eta 0:00:01\r\u001b[K     |███                             | 92kB 3.1MB/s eta 0:00:01\r\u001b[K     |███▎                            | 102kB 3.5MB/s eta 0:00:01\r\u001b[K     |███▋                            | 112kB 3.5MB/s eta 0:00:01\r\u001b[K     |████                            | 122kB 3.5MB/s eta 0:00:01\r\u001b[K     |████▎                           | 133kB 3.5MB/s eta 0:00:01\r\u001b[K     |████▋                           | 143kB 3.5MB/s eta 0:00:01\r\u001b[K     |█████                           | 153kB 3.5MB/s eta 0:00:01\r\u001b[K     |█████▎                          | 163kB 3.5MB/s eta 0:00:01\r\u001b[K     |█████▋                          | 174kB 3.5MB/s eta 0:00:01\r\u001b[K     |██████                          | 184kB 3.5MB/s eta 0:00:01\r\u001b[K     |██████▎                         | 194kB 3.5MB/s eta 0:00:01\r\u001b[K     |██████▋                         | 204kB 3.5MB/s eta 0:00:01\r\u001b[K     |███████                         | 215kB 3.5MB/s eta 0:00:01\r\u001b[K     |███████▎                        | 225kB 3.5MB/s eta 0:00:01\r\u001b[K     |███████▋                        | 235kB 3.5MB/s eta 0:00:01\r\u001b[K     |████████                        | 245kB 3.5MB/s eta 0:00:01\r\u001b[K     |████████▎                       | 256kB 3.5MB/s eta 0:00:01\r\u001b[K     |████████▋                       | 266kB 3.5MB/s eta 0:00:01\r\u001b[K     |█████████                       | 276kB 3.5MB/s eta 0:00:01\r\u001b[K     |█████████▎                      | 286kB 3.5MB/s eta 0:00:01\r\u001b[K     |█████████▋                      | 296kB 3.5MB/s eta 0:00:01\r\u001b[K     |██████████                      | 307kB 3.5MB/s eta 0:00:01\r\u001b[K     |██████████▎                     | 317kB 3.5MB/s eta 0:00:01\r\u001b[K     |██████████▋                     | 327kB 3.5MB/s eta 0:00:01\r\u001b[K     |███████████                     | 337kB 3.5MB/s eta 0:00:01\r\u001b[K     |███████████▎                    | 348kB 3.5MB/s eta 0:00:01\r\u001b[K     |███████████▋                    | 358kB 3.5MB/s eta 0:00:01\r\u001b[K     |████████████                    | 368kB 3.5MB/s eta 0:00:01\r\u001b[K     |████████████▎                   | 378kB 3.5MB/s eta 0:00:01\r\u001b[K     |████████████▋                   | 389kB 3.5MB/s eta 0:00:01\r\u001b[K     |█████████████                   | 399kB 3.5MB/s eta 0:00:01\r\u001b[K     |█████████████▎                  | 409kB 3.5MB/s eta 0:00:01\r\u001b[K     |█████████████▋                  | 419kB 3.5MB/s eta 0:00:01\r\u001b[K     |██████████████                  | 430kB 3.5MB/s eta 0:00:01\r\u001b[K     |██████████████▎                 | 440kB 3.5MB/s eta 0:00:01\r\u001b[K     |██████████████▋                 | 450kB 3.5MB/s eta 0:00:01\r\u001b[K     |███████████████                 | 460kB 3.5MB/s eta 0:00:01\r\u001b[K     |███████████████▎                | 471kB 3.5MB/s eta 0:00:01\r\u001b[K     |███████████████▋                | 481kB 3.5MB/s eta 0:00:01\r\u001b[K     |████████████████                | 491kB 3.5MB/s eta 0:00:01\r\u001b[K     |████████████████▎               | 501kB 3.5MB/s eta 0:00:01\r\u001b[K     |████████████████▋               | 512kB 3.5MB/s eta 0:00:01\r\u001b[K     |█████████████████               | 522kB 3.5MB/s eta 0:00:01\r\u001b[K     |█████████████████▎              | 532kB 3.5MB/s eta 0:00:01\r\u001b[K     |█████████████████▋              | 542kB 3.5MB/s eta 0:00:01\r\u001b[K     |██████████████████              | 552kB 3.5MB/s eta 0:00:01\r\u001b[K     |██████████████████▎             | 563kB 3.5MB/s eta 0:00:01\r\u001b[K     |██████████████████▋             | 573kB 3.5MB/s eta 0:00:01\r\u001b[K     |███████████████████             | 583kB 3.5MB/s eta 0:00:01\r\u001b[K     |███████████████████▎            | 593kB 3.5MB/s eta 0:00:01\r\u001b[K     |███████████████████▋            | 604kB 3.5MB/s eta 0:00:01\r\u001b[K     |████████████████████            | 614kB 3.5MB/s eta 0:00:01\r\u001b[K     |████████████████████▎           | 624kB 3.5MB/s eta 0:00:01\r\u001b[K     |████████████████████▋           | 634kB 3.5MB/s eta 0:00:01\r\u001b[K     |█████████████████████           | 645kB 3.5MB/s eta 0:00:01\r\u001b[K     |█████████████████████▎          | 655kB 3.5MB/s eta 0:00:01\r\u001b[K     |█████████████████████▋          | 665kB 3.5MB/s eta 0:00:01\r\u001b[K     |██████████████████████          | 675kB 3.5MB/s eta 0:00:01\r\u001b[K     |██████████████████████▎         | 686kB 3.5MB/s eta 0:00:01\r\u001b[K     |██████████████████████▋         | 696kB 3.5MB/s eta 0:00:01\r\u001b[K     |███████████████████████         | 706kB 3.5MB/s eta 0:00:01\r\u001b[K     |███████████████████████▎        | 716kB 3.5MB/s eta 0:00:01\r\u001b[K     |███████████████████████▋        | 727kB 3.5MB/s eta 0:00:01\r\u001b[K     |████████████████████████        | 737kB 3.5MB/s eta 0:00:01\r\u001b[K     |████████████████████████▎       | 747kB 3.5MB/s eta 0:00:01\r\u001b[K     |████████████████████████▋       | 757kB 3.5MB/s eta 0:00:01\r\u001b[K     |████████████████████████▉       | 768kB 3.5MB/s eta 0:00:01\r\u001b[K     |█████████████████████████▏      | 778kB 3.5MB/s eta 0:00:01\r\u001b[K     |█████████████████████████▌      | 788kB 3.5MB/s eta 0:00:01\r\u001b[K     |█████████████████████████▉      | 798kB 3.5MB/s eta 0:00:01\r\u001b[K     |██████████████████████████▏     | 808kB 3.5MB/s eta 0:00:01\r\u001b[K     |██████████████████████████▌     | 819kB 3.5MB/s eta 0:00:01\r\u001b[K     |██████████████████████████▉     | 829kB 3.5MB/s eta 0:00:01\r\u001b[K     |███████████████████████████▏    | 839kB 3.5MB/s eta 0:00:01\r\u001b[K     |███████████████████████████▌    | 849kB 3.5MB/s eta 0:00:01\r\u001b[K     |███████████████████████████▉    | 860kB 3.5MB/s eta 0:00:01\r\u001b[K     |████████████████████████████▏   | 870kB 3.5MB/s eta 0:00:01\r\u001b[K     |████████████████████████████▌   | 880kB 3.5MB/s eta 0:00:01\r\u001b[K     |████████████████████████████▉   | 890kB 3.5MB/s eta 0:00:01\r\u001b[K     |█████████████████████████████▏  | 901kB 3.5MB/s eta 0:00:01\r\u001b[K     |█████████████████████████████▌  | 911kB 3.5MB/s eta 0:00:01\r\u001b[K     |█████████████████████████████▉  | 921kB 3.5MB/s eta 0:00:01\r\u001b[K     |██████████████████████████████▏ | 931kB 3.5MB/s eta 0:00:01\r\u001b[K     |██████████████████████████████▌ | 942kB 3.5MB/s eta 0:00:01\r\u001b[K     |██████████████████████████████▉ | 952kB 3.5MB/s eta 0:00:01\r\u001b[K     |███████████████████████████████▏| 962kB 3.5MB/s eta 0:00:01\r\u001b[K     |███████████████████████████████▌| 972kB 3.5MB/s eta 0:00:01\r\u001b[K     |███████████████████████████████▉| 983kB 3.5MB/s eta 0:00:01\r\u001b[K     |████████████████████████████████| 993kB 3.5MB/s \n",
            "\u001b[?25h  Building wheel for PyDrive (setup.py) ... \u001b[?25l\u001b[?25hdone\n"
          ],
          "name": "stdout"
        }
      ]
    },
    {
      "cell_type": "markdown",
      "metadata": {
        "id": "xUFLRhDkDLhU",
        "colab_type": "text"
      },
      "source": [
        "## Authenticating account "
      ]
    },
    {
      "cell_type": "code",
      "metadata": {
        "id": "tX4sSAlxDKTs",
        "colab_type": "code",
        "outputId": "51d46f24-813b-4791-ecf2-e1ecc463330c",
        "colab": {
          "base_uri": "https://localhost:8080/",
          "height": 139
        }
      },
      "source": [
        "auth.authenticate_user()\n",
        "gauth = GoogleAuth()\n",
        "gauth.credentials = GoogleCredentials.get_application_default()\n",
        "drive = GoogleDrive(gauth)"
      ],
      "execution_count": 0,
      "outputs": [
        {
          "output_type": "stream",
          "text": [
            "\n",
            "WARNING: The TensorFlow contrib module will not be included in TensorFlow 2.0.\n",
            "For more information, please see:\n",
            "  * https://github.com/tensorflow/community/blob/master/rfcs/20180907-contrib-sunset.md\n",
            "  * https://github.com/tensorflow/addons\n",
            "If you depend on functionality not listed there, please file an issue.\n",
            "\n"
          ],
          "name": "stdout"
        }
      ]
    },
    {
      "cell_type": "markdown",
      "metadata": {
        "id": "j7WbmLSrDcM6",
        "colab_type": "text"
      },
      "source": [
        "## Downloading file from google drive \n",
        "Zip file "
      ]
    },
    {
      "cell_type": "code",
      "metadata": {
        "id": "iLRvPNahDRUh",
        "colab_type": "code",
        "colab": {}
      },
      "source": [
        "fid = drive.ListFile({'q':\"title='kagglecatsanddogs.zip'\"}).GetList()[0]['id']\n",
        "f = drive.CreateFile({'id': fid})\n",
        "f.GetContentFile('kagglecatsanddogs.zip')"
      ],
      "execution_count": 0,
      "outputs": []
    },
    {
      "cell_type": "markdown",
      "metadata": {
        "id": "S-vqDE_gDn_K",
        "colab_type": "text"
      },
      "source": [
        "## Unzipping file "
      ]
    },
    {
      "cell_type": "code",
      "metadata": {
        "id": "ZEOnRqZ4DbXN",
        "colab_type": "code",
        "colab": {}
      },
      "source": [
        "!unzip kagglecatsanddogs.zip"
      ],
      "execution_count": 0,
      "outputs": []
    },
    {
      "cell_type": "markdown",
      "metadata": {
        "id": "XbEWeeIBZ0Zu",
        "colab_type": "text"
      },
      "source": [
        "### Total number of cats and dogs images "
      ]
    },
    {
      "cell_type": "code",
      "metadata": {
        "id": "jYt1qI5_Z_HD",
        "colab_type": "code",
        "outputId": "bb18fdd9-ba0c-4188-99fc-1ccea65fb8a8",
        "colab": {
          "base_uri": "https://localhost:8080/",
          "height": 52
        }
      },
      "source": [
        "import os \n",
        "\n",
        "print('Number of Cat Images :', len(os.listdir('PetImages/Cat')))\n",
        "print('Number of Dog Images :', len(os.listdir('PetImages/Dog')))"
      ],
      "execution_count": 0,
      "outputs": [
        {
          "output_type": "stream",
          "text": [
            "Number of Cat Images : 12501\n",
            "Number of Dog Images : 12501\n"
          ],
          "name": "stdout"
        }
      ]
    },
    {
      "cell_type": "markdown",
      "metadata": {
        "id": "BLb37qXdXguJ",
        "colab_type": "text"
      },
      "source": [
        "## Making Directories for Training, Validation and Testing the Model"
      ]
    },
    {
      "cell_type": "code",
      "metadata": {
        "id": "9c48y8SlXaEZ",
        "colab_type": "code",
        "colab": {}
      },
      "source": [
        "import os,shutil \n",
        "\n",
        "original_dir='PetImages'           # original directory downloaded from google drive \n",
        "base_dir=\"data\"                    # base directory where we will separate training, validation and testing data \n",
        "\n",
        "os.mkdir(base_dir)                 # making the base directory \n"
      ],
      "execution_count": 0,
      "outputs": []
    },
    {
      "cell_type": "code",
      "metadata": {
        "id": "OdRtXX9jXko5",
        "colab_type": "code",
        "colab": {}
      },
      "source": [
        "# Making the training directory \n",
        "train_dir=os.path.join(base_dir,\"train\")\n",
        "os.mkdir(train_dir)\n",
        "\n",
        "# Making the Validation directory \n",
        "validation_dir=os.path.join(base_dir,\"validation\")\n",
        "os.mkdir(validation_dir)\n",
        "\n",
        "# Making the test directory\n",
        "test_dir=os.path.join(base_dir,\"test\")\n",
        "os.mkdir(test_dir)\n"
      ],
      "execution_count": 0,
      "outputs": []
    },
    {
      "cell_type": "markdown",
      "metadata": {
        "id": "5f0Q7vWFXiIh",
        "colab_type": "text"
      },
      "source": [
        "### Number of categories in the data "
      ]
    },
    {
      "cell_type": "code",
      "metadata": {
        "id": "yOmvD9CDXbo7",
        "colab_type": "code",
        "outputId": "269f3531-e71b-4f8c-dbd9-2f95e0a9730c",
        "colab": {
          "base_uri": "https://localhost:8080/",
          "height": 52
        }
      },
      "source": [
        "categories=[i for i in os.listdir(original_dir)]   # list of categories in the data \n",
        "\n",
        "num_classes=len(categories)                        # number of categories in the data\n",
        "\n",
        "print('Number of Classes : ',num_classes)\n",
        "print('Categories : ',categories)"
      ],
      "execution_count": 0,
      "outputs": [
        {
          "output_type": "stream",
          "text": [
            "Number of Classes :  2\n",
            "Categories :  ['Dog', 'Cat']\n"
          ],
          "name": "stdout"
        }
      ]
    },
    {
      "cell_type": "markdown",
      "metadata": {
        "id": "Lbm4_e0dXtlV",
        "colab_type": "text"
      },
      "source": [
        "### Making Directories for each category in the training, validation and testing directory."
      ]
    },
    {
      "cell_type": "code",
      "metadata": {
        "id": "sIvDaOzmXvZj",
        "colab_type": "code",
        "outputId": "6224d3f3-a447-443f-9d58-5a3c04a475ea",
        "colab": {
          "base_uri": "https://localhost:8080/",
          "height": 35
        }
      },
      "source": [
        "c=[]\n",
        "\n",
        "# directories for training pictures \n",
        "for j in categories:\n",
        "  c.append(os.path.join(train_dir,j))\n",
        "  \n",
        "\n",
        "# directories for validation pictures\n",
        "for j in categories:\n",
        "  c.append(os.path.join(validation_dir,j))\n",
        "  \n",
        "\n",
        "#directories for test pictures \n",
        "for j in categories:\n",
        "  c.append(os.path.join(test_dir,j))\n",
        "  \n",
        "\n",
        "print(c)\n",
        "\n",
        "for i in c:\n",
        "  os.mkdir(i)   #making directories "
      ],
      "execution_count": 0,
      "outputs": [
        {
          "output_type": "stream",
          "text": [
            "['data/train/Dog', 'data/train/Cat', 'data/validation/Dog', 'data/validation/Cat', 'data/test/Dog', 'data/test/Cat']\n"
          ],
          "name": "stdout"
        }
      ]
    },
    {
      "cell_type": "markdown",
      "metadata": {
        "id": "IepuNxylX05X",
        "colab_type": "text"
      },
      "source": [
        "### Making list of training directories "
      ]
    },
    {
      "cell_type": "code",
      "metadata": {
        "id": "g9f8vqiuX2Dy",
        "colab_type": "code",
        "outputId": "8bdcf63d-8643-4e9e-ef3b-c9f2ecf79686",
        "colab": {
          "base_uri": "https://localhost:8080/",
          "height": 35
        }
      },
      "source": [
        "train_categories=[]\n",
        "for i in categories:\n",
        "  train_categories.append(base_dir+'/'+\"train\"+\"/\"+i)\n",
        "  \n",
        "print(train_categories)"
      ],
      "execution_count": 0,
      "outputs": [
        {
          "output_type": "stream",
          "text": [
            "['data/train/Dog', 'data/train/Cat']\n"
          ],
          "name": "stdout"
        }
      ]
    },
    {
      "cell_type": "markdown",
      "metadata": {
        "id": "4YjFH2w1X-y3",
        "colab_type": "text"
      },
      "source": [
        "### Making list of validation directories"
      ]
    },
    {
      "cell_type": "code",
      "metadata": {
        "id": "JmXo7nRFX6bR",
        "colab_type": "code",
        "outputId": "9866b1fa-b5d6-433b-ef68-90af44fb729f",
        "colab": {
          "base_uri": "https://localhost:8080/",
          "height": 35
        }
      },
      "source": [
        "validation_categories=[]\n",
        "for i in categories:\n",
        "  validation_categories.append(base_dir+'/'+\"validation\"+\"/\"+i)\n",
        "  \n",
        "print(validation_categories)"
      ],
      "execution_count": 0,
      "outputs": [
        {
          "output_type": "stream",
          "text": [
            "['data/validation/Dog', 'data/validation/Cat']\n"
          ],
          "name": "stdout"
        }
      ]
    },
    {
      "cell_type": "markdown",
      "metadata": {
        "id": "fg-1CAddYCV3",
        "colab_type": "text"
      },
      "source": [
        "### Making list of testing directories"
      ]
    },
    {
      "cell_type": "code",
      "metadata": {
        "id": "pMEIute8X6Pc",
        "colab_type": "code",
        "outputId": "f667a3ba-7f86-4a0d-8f73-fb3ba72e1575",
        "colab": {
          "base_uri": "https://localhost:8080/",
          "height": 35
        }
      },
      "source": [
        "test_categories=[]\n",
        "for i in categories:\n",
        "  test_categories.append(base_dir+'/'+\"test\"+\"/\"+i)\n",
        "  \n",
        "print(test_categories)"
      ],
      "execution_count": 0,
      "outputs": [
        {
          "output_type": "stream",
          "text": [
            "['data/test/Dog', 'data/test/Cat']\n"
          ],
          "name": "stdout"
        }
      ]
    },
    {
      "cell_type": "markdown",
      "metadata": {
        "id": "t4YV4aYLYIjz",
        "colab_type": "text"
      },
      "source": [
        "### Making list of original directories"
      ]
    },
    {
      "cell_type": "code",
      "metadata": {
        "id": "165ggI33YJKW",
        "colab_type": "code",
        "outputId": "e192bdfc-2392-42a6-bebb-b1cab0d3548f",
        "colab": {
          "base_uri": "https://localhost:8080/",
          "height": 35
        }
      },
      "source": [
        "original_dataset=[]\n",
        "for i in categories:\n",
        "  original_dataset.append(original_dir+\"/\"+i)\n",
        "  \n",
        "print(original_dataset)"
      ],
      "execution_count": 0,
      "outputs": [
        {
          "output_type": "stream",
          "text": [
            "['PetImages/Dog', 'PetImages/Cat']\n"
          ],
          "name": "stdout"
        }
      ]
    },
    {
      "cell_type": "markdown",
      "metadata": {
        "id": "ThA2RHa4YUaG",
        "colab_type": "text"
      },
      "source": [
        "### Copying the first 1000 images of each category in training directory of each category.\n",
        "### Copying the next 300 images of each category in validation directory of each category.\n",
        "### Copying the 200 images of each category in testing directory of each category."
      ]
    },
    {
      "cell_type": "code",
      "metadata": {
        "id": "3ulcGYYuYVnK",
        "colab_type": "code",
        "colab": {}
      },
      "source": [
        "# Copy first 1000 images to train\n",
        "for i,j in enumerate(categories):\n",
        "  \n",
        "  fnames = [x for x in os.listdir(original_dir+'/'+j)[0:1000]]\n",
        "\n",
        "  for fname in fnames:\n",
        "      src = os.path.join(original_dataset[i], fname)\n",
        "      dst = os.path.join(train_categories[i], fname)\n",
        "      shutil.copyfile(src, dst)\n",
        "    "
      ],
      "execution_count": 0,
      "outputs": []
    },
    {
      "cell_type": "code",
      "metadata": {
        "id": "NdGzFHPXYYie",
        "colab_type": "code",
        "colab": {}
      },
      "source": [
        "#Copy next 300 images for validation\n",
        "\n",
        "for i,j in enumerate(categories):\n",
        "  \n",
        "  fnames = [x for x in os.listdir(original_dir+'/'+j)[1000:1300]]\n",
        "\n",
        "  for fname in fnames:\n",
        "      src = os.path.join(original_dataset[i], fname)\n",
        "      dst = os.path.join(validation_categories[i], fname)\n",
        "      shutil.copyfile(src, dst)\n",
        "    "
      ],
      "execution_count": 0,
      "outputs": []
    },
    {
      "cell_type": "code",
      "metadata": {
        "id": "iake3SxNYcI4",
        "colab_type": "code",
        "colab": {}
      },
      "source": [
        "#Copy next 200 images for test\n",
        "\n",
        "for i,j in enumerate(categories):\n",
        "  \n",
        "  fnames = [x for x in os.listdir(original_dir+'/'+j)[1300:1500]]\n",
        "\n",
        "  for fname in fnames:\n",
        "      src = os.path.join(original_dataset[i], fname)\n",
        "      dst = os.path.join(test_categories[i], fname)\n",
        "      shutil.copyfile(src, dst)"
      ],
      "execution_count": 0,
      "outputs": []
    },
    {
      "cell_type": "markdown",
      "metadata": {
        "id": "2vXfobqGYoA5",
        "colab_type": "text"
      },
      "source": [
        "## Counting the total number of Training, Validation and Testing Images"
      ]
    },
    {
      "cell_type": "code",
      "metadata": {
        "id": "mM9LjJ6LYloo",
        "colab_type": "code",
        "outputId": "d280077a-31f2-4ec0-a3d2-84c498aa2d10",
        "colab": {
          "base_uri": "https://localhost:8080/",
          "height": 69
        }
      },
      "source": [
        "# Total number of training images \n",
        "train_img_count=0\n",
        "for i in os.listdir(base_dir+'/'+\"train\"):\n",
        "  train_img_count+=len(os.listdir(base_dir+'/'+'train'+'/'+i))\n",
        "  \n",
        "# Total number of Validation Images \n",
        "validation_img_count=0\n",
        "for i in os.listdir(base_dir+'/'+'validation'):\n",
        "  validation_img_count+=len(os.listdir(base_dir+'/'+'validation'+'/'+i))\n",
        "  \n",
        "# Total number of Testing Images \n",
        "test_img_count=0\n",
        "for i in os.listdir(base_dir+'/'+'test'):\n",
        "  test_img_count+=len(os.listdir(base_dir+'/'+'test'+'/'+i))\n",
        "  \n",
        "print('Total Training Images :', train_img_count)\n",
        "print('Total validation Images:', validation_img_count)\n",
        "print('Total Test Images:', test_img_count)"
      ],
      "execution_count": 0,
      "outputs": [
        {
          "output_type": "stream",
          "text": [
            "Total Training Images : 2000\n",
            "Total validation Images: 600\n",
            "Total Test Images: 400\n"
          ],
          "name": "stdout"
        }
      ]
    },
    {
      "cell_type": "code",
      "metadata": {
        "id": "IyPaLT1-dg0w",
        "colab_type": "code",
        "colab": {}
      },
      "source": [
        ""
      ],
      "execution_count": 0,
      "outputs": []
    },
    {
      "cell_type": "markdown",
      "metadata": {
        "id": "XX2zFBwDRONV",
        "colab_type": "text"
      },
      "source": [
        "## Creating Model "
      ]
    },
    {
      "cell_type": "code",
      "metadata": {
        "id": "-Op7mCJcax5V",
        "colab_type": "code",
        "outputId": "a331cbe6-b114-4c67-ca87-6451fc442d55",
        "colab": {
          "base_uri": "https://localhost:8080/",
          "height": 35
        }
      },
      "source": [
        "import keras \n",
        "import numpy as np  "
      ],
      "execution_count": 0,
      "outputs": [
        {
          "output_type": "stream",
          "text": [
            "Using TensorFlow backend.\n"
          ],
          "name": "stderr"
        }
      ]
    },
    {
      "cell_type": "code",
      "metadata": {
        "id": "5grh5gm-a2fV",
        "colab_type": "code",
        "colab": {}
      },
      "source": [
        "img_height = 150    \n",
        "img_width = 150\n",
        "BATCH_SIZE = 32"
      ],
      "execution_count": 0,
      "outputs": []
    },
    {
      "cell_type": "code",
      "metadata": {
        "id": "V5xNZd82ax2X",
        "colab_type": "code",
        "colab": {}
      },
      "source": [
        "# Importing layers and models from keras\n",
        "from keras import layers\n",
        "from keras import models\n",
        "\n",
        "model = models.Sequential()                                                     # Creating Sequential Model\n",
        "\n",
        "model.add(layers.Conv2D(32, (3, 3), activation='relu',                          # Adding First Convolutional layer in the network\n",
        "                        input_shape=(img_height,img_width, 3)))\n",
        "\n",
        "model.add(layers.MaxPooling2D((2, 2)))                                          # adding First Pooling layer in the network\n",
        "\n",
        "model.add(layers.Conv2D(64, (3, 3),padding='same', activation='relu'))          # Adding Second Convolutional layer in the network\n",
        "\n",
        "model.add(layers.MaxPooling2D((2, 2)))                                          # Adding Second Pooling layer in the network\n",
        " \n",
        "\n",
        "model.add(layers.Conv2D(128, (3, 3),padding='same', activation='relu'))         # Adding Third Convolutional layer in the network \n",
        "\n",
        "model.add(layers.MaxPooling2D((2, 2)))                                          # Adding Third Pooling layer in the network\n",
        "\n",
        "                                         \n",
        "model.add(layers.Flatten())                                                     # Flattening the layers (Making it into one dimensional from 3 dimensional)\n",
        "                                                             \n",
        "model.add(layers.Dense(512, activation='relu'))                                 # Adding Dense Layer with 512 neurons\n",
        "\n",
        "model.add(layers.Dense(1, activation='sigmoid'))                                # Adding Output Dense Layer with sigmoid activation function"
      ],
      "execution_count": 0,
      "outputs": []
    },
    {
      "cell_type": "code",
      "metadata": {
        "id": "lcNkEKTpHKAb",
        "colab_type": "code",
        "outputId": "3561bce7-4d83-4735-b145-f37d7c743ff6",
        "colab": {
          "base_uri": "https://localhost:8080/",
          "height": 451
        }
      },
      "source": [
        "model.summary()"
      ],
      "execution_count": 0,
      "outputs": [
        {
          "output_type": "stream",
          "text": [
            "_________________________________________________________________\n",
            "Layer (type)                 Output Shape              Param #   \n",
            "=================================================================\n",
            "conv2d_16 (Conv2D)           (None, 148, 148, 32)      896       \n",
            "_________________________________________________________________\n",
            "max_pooling2d_16 (MaxPooling (None, 74, 74, 32)        0         \n",
            "_________________________________________________________________\n",
            "conv2d_17 (Conv2D)           (None, 74, 74, 64)        18496     \n",
            "_________________________________________________________________\n",
            "max_pooling2d_17 (MaxPooling (None, 37, 37, 64)        0         \n",
            "_________________________________________________________________\n",
            "conv2d_18 (Conv2D)           (None, 37, 37, 128)       73856     \n",
            "_________________________________________________________________\n",
            "max_pooling2d_18 (MaxPooling (None, 18, 18, 128)       0         \n",
            "_________________________________________________________________\n",
            "flatten_4 (Flatten)          (None, 41472)             0         \n",
            "_________________________________________________________________\n",
            "dense_10 (Dense)             (None, 512)               21234176  \n",
            "_________________________________________________________________\n",
            "dense_11 (Dense)             (None, 1)                 513       \n",
            "=================================================================\n",
            "Total params: 21,327,937\n",
            "Trainable params: 21,327,937\n",
            "Non-trainable params: 0\n",
            "_________________________________________________________________\n"
          ],
          "name": "stdout"
        }
      ]
    },
    {
      "cell_type": "markdown",
      "metadata": {
        "id": "qrDW2jiQbHGY",
        "colab_type": "text"
      },
      "source": [
        "##Compiling the model "
      ]
    },
    {
      "cell_type": "code",
      "metadata": {
        "id": "8jtOPLr9HQJO",
        "colab_type": "code",
        "colab": {}
      },
      "source": [
        "model.compile(loss='binary_crossentropy',\n",
        "              optimizer='adam',\n",
        "              metrics=['accuracy'])"
      ],
      "execution_count": 0,
      "outputs": []
    },
    {
      "cell_type": "markdown",
      "metadata": {
        "id": "cv-U_CeaHhuH",
        "colab_type": "text"
      },
      "source": [
        "## Data Preprocessing "
      ]
    },
    {
      "cell_type": "code",
      "metadata": {
        "id": "cnEG4fPkbTfm",
        "colab_type": "code",
        "outputId": "962c7f95-22e9-4656-ad00-142c0b1e237b",
        "colab": {
          "base_uri": "https://localhost:8080/",
          "height": 52
        }
      },
      "source": [
        "from keras.preprocessing.image import ImageDataGenerator\n",
        "\n",
        "\n",
        "# Data Augumentation with training data \n",
        "train_datagen = ImageDataGenerator( rescale=1./255)                        # Normalizing Images, means all pixel values will be in the range (0,1) \n",
        "\n",
        "test_datagen = ImageDataGenerator(rescale=1./255)\n",
        "\n",
        "\n",
        "# Converting the data into Batches for easier processing \n",
        "train_generator = train_datagen.flow_from_directory(\n",
        "                                train_dir,                                  # This is the target directory\n",
        "                                target_size=(img_height, img_width),        # All images will be resized to (img_height x img_width) \n",
        "                                batch_size=BATCH_SIZE,\n",
        "                                class_mode='binary'                         # Since we use binary_crossentropy loss, we need binary labels\n",
        "                                )\n",
        "\n",
        "\n",
        "validation_generator = test_datagen.flow_from_directory(\n",
        "                                validation_dir,\n",
        "                                target_size=(img_height, img_width),\n",
        "                                batch_size=BATCH_SIZE,\n",
        "                                class_mode='binary')"
      ],
      "execution_count": 0,
      "outputs": [
        {
          "output_type": "stream",
          "text": [
            "Found 2000 images belonging to 2 classes.\n",
            "Found 600 images belonging to 2 classes.\n"
          ],
          "name": "stdout"
        }
      ]
    },
    {
      "cell_type": "code",
      "metadata": {
        "id": "hZt_acagHrvN",
        "colab_type": "code",
        "outputId": "5e3dcd72-237b-4294-8d74-237733a067df",
        "colab": {
          "base_uri": "https://localhost:8080/",
          "height": 52
        }
      },
      "source": [
        "for data_batch, labels_batch in train_generator:\n",
        "    print('data batch shape:', data_batch.shape)\n",
        "    print('labels batch shape:', labels_batch.shape)\n",
        "    break"
      ],
      "execution_count": 0,
      "outputs": [
        {
          "output_type": "stream",
          "text": [
            "data batch shape: (32, 150, 150, 3)\n",
            "labels batch shape: (32,)\n"
          ],
          "name": "stdout"
        }
      ]
    },
    {
      "cell_type": "markdown",
      "metadata": {
        "id": "8d8cxjgxbv59",
        "colab_type": "text"
      },
      "source": [
        "##Training model "
      ]
    },
    {
      "cell_type": "code",
      "metadata": {
        "id": "JctMzuAsb2J0",
        "colab_type": "code",
        "outputId": "f2ae39bd-a11b-44cb-fdf7-ad06795d883b",
        "colab": {
          "base_uri": "https://localhost:8080/",
          "height": 765
        }
      },
      "source": [
        "# Train the model\n",
        "batch_size = BATCH_SIZE\n",
        "train_steps_per_epoch = train_img_count // batch_size\n",
        "val_steps_per_epoch = validation_img_count // batch_size\n",
        "\n",
        "history = model.fit_generator(train_generator,\n",
        "                              steps_per_epoch=train_steps_per_epoch,\n",
        "                              validation_data=validation_generator,\n",
        "                              validation_steps=val_steps_per_epoch,\n",
        "                              epochs=10, \n",
        "                              shuffle=True,\n",
        "                              verbose=1)   "
      ],
      "execution_count": 0,
      "outputs": [
        {
          "output_type": "stream",
          "text": [
            "Epoch 1/10\n"
          ],
          "name": "stdout"
        },
        {
          "output_type": "stream",
          "text": [
            "/usr/local/lib/python3.6/dist-packages/PIL/TiffImagePlugin.py:725: UserWarning: Possibly corrupt EXIF data.  Expecting to read 262146 bytes but only got 0. Skipping tag 2\n",
            "  \" Skipping tag %s\" % (size, len(data), tag))\n",
            "/usr/local/lib/python3.6/dist-packages/PIL/TiffImagePlugin.py:725: UserWarning: Possibly corrupt EXIF data.  Expecting to read 262151 bytes but only got 0. Skipping tag 56\n",
            "  \" Skipping tag %s\" % (size, len(data), tag))\n",
            "/usr/local/lib/python3.6/dist-packages/PIL/TiffImagePlugin.py:742: UserWarning: Corrupt EXIF data.  Expecting to read 12 bytes but only got 0. \n",
            "  warnings.warn(str(msg))\n",
            "/usr/local/lib/python3.6/dist-packages/PIL/TiffImagePlugin.py:725: UserWarning: Possibly corrupt EXIF data.  Expecting to read 32 bytes but only got 0. Skipping tag 270\n",
            "  \" Skipping tag %s\" % (size, len(data), tag))\n",
            "/usr/local/lib/python3.6/dist-packages/PIL/TiffImagePlugin.py:725: UserWarning: Possibly corrupt EXIF data.  Expecting to read 5 bytes but only got 0. Skipping tag 271\n",
            "  \" Skipping tag %s\" % (size, len(data), tag))\n",
            "/usr/local/lib/python3.6/dist-packages/PIL/TiffImagePlugin.py:725: UserWarning: Possibly corrupt EXIF data.  Expecting to read 8 bytes but only got 0. Skipping tag 272\n",
            "  \" Skipping tag %s\" % (size, len(data), tag))\n",
            "/usr/local/lib/python3.6/dist-packages/PIL/TiffImagePlugin.py:725: UserWarning: Possibly corrupt EXIF data.  Expecting to read 8 bytes but only got 0. Skipping tag 282\n",
            "  \" Skipping tag %s\" % (size, len(data), tag))\n",
            "/usr/local/lib/python3.6/dist-packages/PIL/TiffImagePlugin.py:725: UserWarning: Possibly corrupt EXIF data.  Expecting to read 8 bytes but only got 0. Skipping tag 283\n",
            "  \" Skipping tag %s\" % (size, len(data), tag))\n",
            "/usr/local/lib/python3.6/dist-packages/PIL/TiffImagePlugin.py:725: UserWarning: Possibly corrupt EXIF data.  Expecting to read 20 bytes but only got 0. Skipping tag 306\n",
            "  \" Skipping tag %s\" % (size, len(data), tag))\n",
            "/usr/local/lib/python3.6/dist-packages/PIL/TiffImagePlugin.py:725: UserWarning: Possibly corrupt EXIF data.  Expecting to read 48 bytes but only got 0. Skipping tag 532\n",
            "  \" Skipping tag %s\" % (size, len(data), tag))\n",
            "/usr/local/lib/python3.6/dist-packages/PIL/TiffImagePlugin.py:742: UserWarning: Corrupt EXIF data.  Expecting to read 2 bytes but only got 0. \n",
            "  warnings.warn(str(msg))\n"
          ],
          "name": "stderr"
        },
        {
          "output_type": "stream",
          "text": [
            "62/62 [==============================] - 148s 2s/step - loss: 0.7687 - acc: 0.5343 - val_loss: 0.6843 - val_acc: 0.6007\n",
            "Epoch 2/10\n",
            "62/62 [==============================] - 146s 2s/step - loss: 0.6691 - acc: 0.5907 - val_loss: 0.6503 - val_acc: 0.6373\n",
            "Epoch 3/10\n",
            "62/62 [==============================] - 144s 2s/step - loss: 0.6436 - acc: 0.6311 - val_loss: 0.6508 - val_acc: 0.6408\n",
            "Epoch 4/10\n",
            "62/62 [==============================] - 146s 2s/step - loss: 0.5668 - acc: 0.7001 - val_loss: 0.6650 - val_acc: 0.6250\n",
            "Epoch 5/10\n",
            "62/62 [==============================] - 148s 2s/step - loss: 0.5182 - acc: 0.7364 - val_loss: 0.8681 - val_acc: 0.5986\n",
            "Epoch 6/10\n",
            "62/62 [==============================] - 149s 2s/step - loss: 0.3981 - acc: 0.8120 - val_loss: 0.9464 - val_acc: 0.6496\n",
            "Epoch 7/10\n",
            "62/62 [==============================] - 148s 2s/step - loss: 0.2497 - acc: 0.8916 - val_loss: 1.1877 - val_acc: 0.6197\n",
            "Epoch 8/10\n",
            "62/62 [==============================] - 148s 2s/step - loss: 0.1716 - acc: 0.9310 - val_loss: 1.6008 - val_acc: 0.6004\n",
            "Epoch 9/10\n",
            "62/62 [==============================] - 147s 2s/step - loss: 0.0775 - acc: 0.9743 - val_loss: 1.8917 - val_acc: 0.6021\n",
            "Epoch 10/10\n",
            "62/62 [==============================] - 148s 2s/step - loss: 0.0675 - acc: 0.9813 - val_loss: 2.0553 - val_acc: 0.6180\n"
          ],
          "name": "stdout"
        }
      ]
    },
    {
      "cell_type": "code",
      "metadata": {
        "id": "_VKDqbBLH8xa",
        "colab_type": "code",
        "colab": {}
      },
      "source": [
        "model.save('cats_and_dogs_small_1.h5')"
      ],
      "execution_count": 0,
      "outputs": []
    },
    {
      "cell_type": "code",
      "metadata": {
        "id": "tDfFSY7_UQZu",
        "colab_type": "code",
        "outputId": "c32fb2ee-db91-43c5-c7e2-ba53d3bb19aa",
        "colab": {
          "base_uri": "https://localhost:8080/",
          "height": 545
        }
      },
      "source": [
        "import matplotlib.pyplot as plt\n",
        "\n",
        "acc = history.history['acc']\n",
        "val_acc = history.history['val_acc']\n",
        "loss = history.history['loss']\n",
        "val_loss = history.history['val_loss']\n",
        "\n",
        "epochs = range(len(acc))\n",
        "\n",
        "plt.plot(epochs, acc, 'bo', label='Training acc')\n",
        "plt.plot(epochs, val_acc, 'b', label='Validation acc')\n",
        "plt.title('Training and validation accuracy')\n",
        "plt.legend()\n",
        "\n",
        "plt.figure()\n",
        "\n",
        "plt.plot(epochs, loss, 'bo', label='Training loss')\n",
        "plt.plot(epochs, val_loss, 'b', label='Validation loss')\n",
        "plt.title('Training and validation loss')\n",
        "plt.legend()\n",
        "\n",
        "plt.show()"
      ],
      "execution_count": 58,
      "outputs": [
        {
          "output_type": "display_data",
          "data": {
            "image/png": "[encoded data removed]",
            "text/plain": [
              "<Figure size 432x288 with 1 Axes>"
            ]
          },
          "metadata": {
            "tags": []
          }
        },
        {
          "output_type": "display_data",
          "data": {
            "image/png": "[encoded data removed]",
            "text/plain": [
              "<Figure size 432x288 with 1 Axes>"
            ]
          },
          "metadata": {
            "tags": []
          }
        }
      ]
    },
    {
      "cell_type": "markdown",
      "metadata": {
        "id": "iin56gJyUJhw",
        "colab_type": "text"
      },
      "source": [
        "## Testing the Model "
      ]
    },
    {
      "cell_type": "code",
      "metadata": {
        "id": "c2udZQbSUIfm",
        "colab_type": "code",
        "colab": {}
      },
      "source": [
        "test_generator = test_datagen.flow_from_directory(\n",
        "        test_dir,\n",
        "        target_size=(img_height,img_width),\n",
        "        batch_size=BATCH_SIZE,\n",
        "        class_mode='binary')\n",
        "\n",
        "test_loss, test_acc = model.evaluate_generator(test_generator, steps=50)\n",
        "print('test accuracy :', test_acc)\n",
        "print('test loss :', test_loss)"
      ],
      "execution_count": 0,
      "outputs": []
    },
    {
      "cell_type": "markdown",
      "metadata": {
        "id": "mzko0wN2UbZc",
        "colab_type": "text"
      },
      "source": [
        "## Using Data Augmentation"
      ]
    },
    {
      "cell_type": "markdown",
      "metadata": {
        "id": "5q3KNWlWVAjV",
        "colab_type": "text"
      },
      "source": [
        "## Let's train our network using data augmentation and dropout"
      ]
    },
    {
      "cell_type": "code",
      "metadata": {
        "id": "86TRPAnqP4Sa",
        "colab_type": "code",
        "colab": {}
      },
      "source": [
        "# Importing layers and models from keras\n",
        "from keras import layers\n",
        "from keras import models\n",
        "\n",
        "model = models.Sequential()                                                     # Creating Sequential Model\n",
        "\n",
        "model.add(layers.Conv2D(32, (3, 3), activation='relu',                          # Adding First Convolutional layer in the network\n",
        "                        input_shape=(img_height,img_width, 3)))\n",
        "\n",
        "model.add(layers.MaxPooling2D((2, 2)))                                          # adding First Pooling layer in the network\n",
        "\n",
        "model.add(layers.Conv2D(64, (3, 3),padding='same', activation='relu'))          # Adding Second Convolutional layer in the network\n",
        "\n",
        "model.add(layers.MaxPooling2D((2, 2)))                                          # Adding Second Pooling layer in the network\n",
        " \n",
        "\n",
        "model.add(layers.Conv2D(128, (3, 3),padding='same', activation='relu'))         # Adding Third Convolutional layer in the network \n",
        "\n",
        "model.add(layers.MaxPooling2D((2, 2)))                                          # Adding Third Pooling layer in the network\n",
        "\n",
        "model.add(layers.Dropout(0.5))                                                  # Adding Dropout Layer \n",
        "\n",
        "model.add(layers.Flatten())                                                     # Flattening the layers (Making it into one dimensional from 3 dimensional)\n",
        "                                                             \n",
        "model.add(layers.Dense(512, activation='relu'))                                 # Adding Dense Layer with 512 neurons\n",
        "\n",
        "model.add(layers.Dense(1, activation='sigmoid'))                                # Adding Output Dense Layer with sigmoid activation function"
      ],
      "execution_count": 0,
      "outputs": []
    },
    {
      "cell_type": "code",
      "metadata": {
        "id": "flLf0aW0QYbE",
        "colab_type": "code",
        "colab": {
          "base_uri": "https://localhost:8080/",
          "height": 485
        },
        "outputId": "7db386ec-1c22-48e6-be31-768d9584db58"
      },
      "source": [
        "model.summary()"
      ],
      "execution_count": 66,
      "outputs": [
        {
          "output_type": "stream",
          "text": [
            "_________________________________________________________________\n",
            "Layer (type)                 Output Shape              Param #   \n",
            "=================================================================\n",
            "conv2d_22 (Conv2D)           (None, 148, 148, 32)      896       \n",
            "_________________________________________________________________\n",
            "max_pooling2d_22 (MaxPooling (None, 74, 74, 32)        0         \n",
            "_________________________________________________________________\n",
            "conv2d_23 (Conv2D)           (None, 74, 74, 64)        18496     \n",
            "_________________________________________________________________\n",
            "max_pooling2d_23 (MaxPooling (None, 37, 37, 64)        0         \n",
            "_________________________________________________________________\n",
            "conv2d_24 (Conv2D)           (None, 37, 37, 128)       73856     \n",
            "_________________________________________________________________\n",
            "max_pooling2d_24 (MaxPooling (None, 18, 18, 128)       0         \n",
            "_________________________________________________________________\n",
            "dropout_7 (Dropout)          (None, 18, 18, 128)       0         \n",
            "_________________________________________________________________\n",
            "flatten_5 (Flatten)          (None, 41472)             0         \n",
            "_________________________________________________________________\n",
            "dense_12 (Dense)             (None, 512)               21234176  \n",
            "_________________________________________________________________\n",
            "dense_13 (Dense)             (None, 1)                 513       \n",
            "=================================================================\n",
            "Total params: 21,327,937\n",
            "Trainable params: 21,327,937\n",
            "Non-trainable params: 0\n",
            "_________________________________________________________________\n"
          ],
          "name": "stdout"
        }
      ]
    },
    {
      "cell_type": "code",
      "metadata": {
        "id": "RowQDVLcQAwz",
        "colab_type": "code",
        "colab": {}
      },
      "source": [
        "# Compiling Model \n",
        "\n",
        "model.compile(loss='binary_crossentropy',\n",
        "              optimizer='adam',\n",
        "              metrics=['accuracy'])"
      ],
      "execution_count": 0,
      "outputs": []
    },
    {
      "cell_type": "code",
      "metadata": {
        "colab_type": "code",
        "id": "sE8Jq_tfPV2C",
        "colab": {
          "base_uri": "https://localhost:8080/",
          "height": 52
        },
        "outputId": "e19a6566-ebf2-45a7-9018-b9c362d8be9f"
      },
      "source": [
        "from keras.preprocessing.image import ImageDataGenerator\n",
        "\n",
        "\n",
        "# Data Augumentation with training data \n",
        "train_datagen = ImageDataGenerator( rescale=1./255,\n",
        "                                  rotation_range=40,\n",
        "                                  width_shift_range=0.2,\n",
        "                                  height_shift_range=0.2,\n",
        "                                  shear_range=0.2,\n",
        "                                  zoom_range=0.2,\n",
        "                                  horizontal_flip=True)                    # Normalizing Images, means all pixel values will be in the range (0,1) \n",
        "\n",
        "test_datagen = ImageDataGenerator(rescale=1./255)\n",
        "\n",
        "\n",
        "# Converting the data into Batches for easier processing \n",
        "train_generator = train_datagen.flow_from_directory(\n",
        "                                train_dir,                                  # This is the target directory\n",
        "                                target_size=(img_height, img_width),        # All images will be resized to (img_height x img_width) \n",
        "                                batch_size=BATCH_SIZE,\n",
        "                                class_mode='binary'                         # Since we use binary_crossentropy loss, we need binary labels\n",
        "                                )\n",
        "\n",
        "\n",
        "validation_generator = test_datagen.flow_from_directory(\n",
        "                                validation_dir,\n",
        "                                target_size=(img_height, img_width),\n",
        "                                batch_size=BATCH_SIZE,\n",
        "                                class_mode='binary')"
      ],
      "execution_count": 68,
      "outputs": [
        {
          "output_type": "stream",
          "text": [
            "Found 2000 images belonging to 2 classes.\n",
            "Found 600 images belonging to 2 classes.\n"
          ],
          "name": "stdout"
        }
      ]
    },
    {
      "cell_type": "code",
      "metadata": {
        "id": "ZODV6eDFQgJM",
        "colab_type": "code",
        "colab": {
          "base_uri": "https://localhost:8080/",
          "height": 765
        },
        "outputId": "497f0620-a46b-40c7-8231-bcb355ff4e32"
      },
      "source": [
        "# Train the model\n",
        "batch_size = BATCH_SIZE\n",
        "train_steps_per_epoch = train_img_count // batch_size\n",
        "val_steps_per_epoch = validation_img_count // batch_size\n",
        "\n",
        "history = model.fit_generator(train_generator,\n",
        "                              steps_per_epoch=train_steps_per_epoch,\n",
        "                              validation_data=validation_generator,\n",
        "                              validation_steps=val_steps_per_epoch,\n",
        "                              epochs=10, \n",
        "                              shuffle=True,\n",
        "                              verbose=1)   "
      ],
      "execution_count": 69,
      "outputs": [
        {
          "output_type": "stream",
          "text": [
            "Epoch 1/10\n",
            "25/62 [===========>..................] - ETA: 1:33 - loss: 0.8768 - acc: 0.5050"
          ],
          "name": "stdout"
        },
        {
          "output_type": "stream",
          "text": [
            "/usr/local/lib/python3.6/dist-packages/PIL/TiffImagePlugin.py:725: UserWarning: Possibly corrupt EXIF data.  Expecting to read 32 bytes but only got 0. Skipping tag 270\n",
            "  \" Skipping tag %s\" % (size, len(data), tag))\n",
            "/usr/local/lib/python3.6/dist-packages/PIL/TiffImagePlugin.py:725: UserWarning: Possibly corrupt EXIF data.  Expecting to read 5 bytes but only got 0. Skipping tag 271\n",
            "  \" Skipping tag %s\" % (size, len(data), tag))\n",
            "/usr/local/lib/python3.6/dist-packages/PIL/TiffImagePlugin.py:725: UserWarning: Possibly corrupt EXIF data.  Expecting to read 8 bytes but only got 0. Skipping tag 272\n",
            "  \" Skipping tag %s\" % (size, len(data), tag))\n",
            "/usr/local/lib/python3.6/dist-packages/PIL/TiffImagePlugin.py:725: UserWarning: Possibly corrupt EXIF data.  Expecting to read 8 bytes but only got 0. Skipping tag 282\n",
            "  \" Skipping tag %s\" % (size, len(data), tag))\n",
            "/usr/local/lib/python3.6/dist-packages/PIL/TiffImagePlugin.py:725: UserWarning: Possibly corrupt EXIF data.  Expecting to read 8 bytes but only got 0. Skipping tag 283\n",
            "  \" Skipping tag %s\" % (size, len(data), tag))\n",
            "/usr/local/lib/python3.6/dist-packages/PIL/TiffImagePlugin.py:725: UserWarning: Possibly corrupt EXIF data.  Expecting to read 20 bytes but only got 0. Skipping tag 306\n",
            "  \" Skipping tag %s\" % (size, len(data), tag))\n",
            "/usr/local/lib/python3.6/dist-packages/PIL/TiffImagePlugin.py:725: UserWarning: Possibly corrupt EXIF data.  Expecting to read 48 bytes but only got 0. Skipping tag 532\n",
            "  \" Skipping tag %s\" % (size, len(data), tag))\n",
            "/usr/local/lib/python3.6/dist-packages/PIL/TiffImagePlugin.py:742: UserWarning: Corrupt EXIF data.  Expecting to read 2 bytes but only got 0. \n",
            "  warnings.warn(str(msg))\n"
          ],
          "name": "stderr"
        },
        {
          "output_type": "stream",
          "text": [
            "61/62 [============================>.] - ETA: 2s - loss: 0.7698 - acc: 0.4933"
          ],
          "name": "stdout"
        },
        {
          "output_type": "stream",
          "text": [
            "/usr/local/lib/python3.6/dist-packages/PIL/TiffImagePlugin.py:725: UserWarning: Possibly corrupt EXIF data.  Expecting to read 262146 bytes but only got 0. Skipping tag 2\n",
            "  \" Skipping tag %s\" % (size, len(data), tag))\n",
            "/usr/local/lib/python3.6/dist-packages/PIL/TiffImagePlugin.py:725: UserWarning: Possibly corrupt EXIF data.  Expecting to read 262151 bytes but only got 0. Skipping tag 56\n",
            "  \" Skipping tag %s\" % (size, len(data), tag))\n",
            "/usr/local/lib/python3.6/dist-packages/PIL/TiffImagePlugin.py:742: UserWarning: Corrupt EXIF data.  Expecting to read 12 bytes but only got 0. \n",
            "  warnings.warn(str(msg))\n"
          ],
          "name": "stderr"
        },
        {
          "output_type": "stream",
          "text": [
            "\b\b\b\b\b\b\b\b\b\b\b\b\b\b\b\b\b\b\b\b\b\b\b\b\b\b\b\b\b\b\b\b\b\b\b\b\b\b\b\b\b\b\b\b\b\b\b\b\b\b\b\b\b\b\b\b\b\b\b\b\b\b\b\b\b\b\b\b\b\b\b\b\b\b\b\b\b\r62/62 [==============================] - 163s 3s/step - loss: 0.7686 - acc: 0.4924 - val_loss: 0.6927 - val_acc: 0.5069\n",
            "Epoch 2/10\n",
            "62/62 [==============================] - 158s 3s/step - loss: 0.6936 - acc: 0.5106 - val_loss: 0.6925 - val_acc: 0.5335\n",
            "Epoch 3/10\n",
            "62/62 [==============================] - 157s 3s/step - loss: 0.6919 - acc: 0.5297 - val_loss: 0.6893 - val_acc: 0.5229\n",
            "Epoch 4/10\n",
            "62/62 [==============================] - 158s 3s/step - loss: 0.6910 - acc: 0.5348 - val_loss: 0.6799 - val_acc: 0.5599\n",
            "Epoch 5/10\n",
            "62/62 [==============================] - 156s 3s/step - loss: 0.6780 - acc: 0.5509 - val_loss: 0.6828 - val_acc: 0.5511\n",
            "Epoch 6/10\n",
            "62/62 [==============================] - 157s 3s/step - loss: 0.6902 - acc: 0.5363 - val_loss: 0.6873 - val_acc: 0.5440\n",
            "Epoch 7/10\n",
            "62/62 [==============================] - 157s 3s/step - loss: 0.6874 - acc: 0.5590 - val_loss: 0.6850 - val_acc: 0.5511\n",
            "Epoch 8/10\n",
            "62/62 [==============================] - 159s 3s/step - loss: 0.6841 - acc: 0.5575 - val_loss: 0.6699 - val_acc: 0.5898\n",
            "Epoch 9/10\n",
            "62/62 [==============================] - 157s 3s/step - loss: 0.6827 - acc: 0.5630 - val_loss: 0.6695 - val_acc: 0.5757\n",
            "Epoch 10/10\n",
            "62/62 [==============================] - 158s 3s/step - loss: 0.6744 - acc: 0.5771 - val_loss: 0.6482 - val_acc: 0.5827\n"
          ],
          "name": "stdout"
        }
      ]
    },
    {
      "cell_type": "code",
      "metadata": {
        "id": "IsDFU6uwVF6_",
        "colab_type": "code",
        "colab": {}
      },
      "source": [
        "model.save('cats_and_dogs_small_2.h5')"
      ],
      "execution_count": 0,
      "outputs": []
    },
    {
      "cell_type": "code",
      "metadata": {
        "id": "sATt1Yo_VXiP",
        "colab_type": "code",
        "outputId": "57cede81-c2ae-4797-9808-3ab11520d3e2",
        "colab": {
          "base_uri": "https://localhost:8080/",
          "height": 545
        }
      },
      "source": [
        "acc = history.history['acc']\n",
        "val_acc = history.history['val_acc']\n",
        "loss = history.history['loss']\n",
        "val_loss = history.history['val_loss']\n",
        "\n",
        "epochs = range(len(acc))\n",
        "\n",
        "plt.plot(epochs, acc, 'bo', label='Training acc')\n",
        "plt.plot(epochs, val_acc, 'b', label='Validation acc')\n",
        "plt.title('Training and validation accuracy')\n",
        "plt.legend()\n",
        "\n",
        "plt.figure()\n",
        "\n",
        "plt.plot(epochs, loss, 'bo', label='Training loss')\n",
        "plt.plot(epochs, val_loss, 'b', label='Validation loss')\n",
        "plt.title('Training and validation loss')\n",
        "plt.legend()\n",
        "\n",
        "plt.show()"
      ],
      "execution_count": 70,
      "outputs": [
        {
          "output_type": "display_data",
          "data": {
            "image/png": "[encoded data removed]",
            "text/plain": [
              "<Figure size 432x288 with 1 Axes>"
            ]
          },
          "metadata": {
            "tags": []
          }
        },
        {
          "output_type": "display_data",
          "data": {
            "image/png": "[encoded data removed]",
            "text/plain": [
              "<Figure size 432x288 with 1 Axes>"
            ]
          },
          "metadata": {
            "tags": []
          }
        }
      ]
    },
    {
      "cell_type": "markdown",
      "metadata": {
        "id": "lCClxMRNURvM",
        "colab_type": "text"
      },
      "source": [
        "## Testing the Model "
      ]
    },
    {
      "cell_type": "code",
      "metadata": {
        "id": "AbINFNbU8mOB",
        "colab_type": "code",
        "colab": {
          "base_uri": "https://localhost:8080/",
          "height": 69
        },
        "outputId": "e4b606d9-40f5-4d53-feb5-4ee1a5ad5183"
      },
      "source": [
        "test_generator = test_datagen.flow_from_directory(\n",
        "        test_dir,\n",
        "        target_size=(img_height,img_width),\n",
        "        batch_size=BATCH_SIZE,\n",
        "        class_mode='binary')\n",
        "\n",
        "test_loss, test_acc = model.evaluate_generator(test_generator, steps=50)\n",
        "print('test accuracy :', test_acc)\n",
        "print('test loss :', test_loss)"
      ],
      "execution_count": 71,
      "outputs": [
        {
          "output_type": "stream",
          "text": [
            "Found 400 images belonging to 2 classes.\n",
            "test accuracy : 0.5960051546391752\n",
            "test loss : 0.6546142893968169\n"
          ],
          "name": "stdout"
        }
      ]
    },
    {
      "cell_type": "code",
      "metadata": {
        "id": "GKUkIfrQ9cgo",
        "colab_type": "code",
        "colab": {}
      },
      "source": [
        ""
      ],
      "execution_count": 0,
      "outputs": []
    },
    {
      "cell_type": "code",
      "metadata": {
        "id": "AkCH_M09-EHv",
        "colab_type": "code",
        "colab": {}
      },
      "source": [
        ""
      ],
      "execution_count": 0,
      "outputs": []
    }
  ]
}